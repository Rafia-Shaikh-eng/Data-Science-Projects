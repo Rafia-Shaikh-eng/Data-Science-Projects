{
 "cells": [
  {
   "cell_type": "markdown",
   "metadata": {},
   "source": [
    "# Project: Who Suicides\n",
    "\n",
    "Submitted by : K18-1301"
   ]
  },
  {
   "cell_type": "markdown",
   "metadata": {},
   "source": [
    "# Importing Libraries"
   ]
  },
  {
   "cell_type": "code",
   "execution_count": 140,
   "metadata": {},
   "outputs": [],
   "source": [
    "#imports\n",
    "import pandas as pd\n",
    "import numpy as np\n",
    "import matplotlib.pyplot as plt\n",
    "import seaborn as sns\n",
    "%matplotlib inline "
   ]
  },
  {
   "cell_type": "markdown",
   "metadata": {},
   "source": [
    "# Read Data\n",
    "We use **\"pandas.read_csv()\"**  function to read the csv file. In the bracket, \n",
    "we put the file path along with a quotation mark, so that pandas will read the\n",
    "file into a data frame from that address. The file path can be either a URL or\n",
    "your local file address."
   ]
  },
  {
   "cell_type": "code",
   "execution_count": 141,
   "metadata": {},
   "outputs": [],
   "source": [
    "df=pd.read_csv(\"who_suicide_statistics.csv\")"
   ]
  },
  {
   "cell_type": "code",
   "execution_count": 142,
   "metadata": {},
   "outputs": [
    {
     "data": {
      "text/html": [
       "<div>\n",
       "<style scoped>\n",
       "    .dataframe tbody tr th:only-of-type {\n",
       "        vertical-align: middle;\n",
       "    }\n",
       "\n",
       "    .dataframe tbody tr th {\n",
       "        vertical-align: top;\n",
       "    }\n",
       "\n",
       "    .dataframe thead th {\n",
       "        text-align: right;\n",
       "    }\n",
       "</style>\n",
       "<table border=\"1\" class=\"dataframe\">\n",
       "  <thead>\n",
       "    <tr style=\"text-align: right;\">\n",
       "      <th></th>\n",
       "      <th>country</th>\n",
       "      <th>year</th>\n",
       "      <th>sex</th>\n",
       "      <th>age</th>\n",
       "      <th>suicides_no</th>\n",
       "      <th>population</th>\n",
       "    </tr>\n",
       "  </thead>\n",
       "  <tbody>\n",
       "    <tr>\n",
       "      <th>0</th>\n",
       "      <td>Albania</td>\n",
       "      <td>1985</td>\n",
       "      <td>female</td>\n",
       "      <td>15-24 years</td>\n",
       "      <td>NaN</td>\n",
       "      <td>277900.0</td>\n",
       "    </tr>\n",
       "    <tr>\n",
       "      <th>1</th>\n",
       "      <td>Albania</td>\n",
       "      <td>1985</td>\n",
       "      <td>female</td>\n",
       "      <td>25-34 years</td>\n",
       "      <td>NaN</td>\n",
       "      <td>246800.0</td>\n",
       "    </tr>\n",
       "    <tr>\n",
       "      <th>2</th>\n",
       "      <td>Albania</td>\n",
       "      <td>1985</td>\n",
       "      <td>female</td>\n",
       "      <td>35-54 years</td>\n",
       "      <td>NaN</td>\n",
       "      <td>267500.0</td>\n",
       "    </tr>\n",
       "    <tr>\n",
       "      <th>3</th>\n",
       "      <td>Albania</td>\n",
       "      <td>1985</td>\n",
       "      <td>female</td>\n",
       "      <td>5-14 years</td>\n",
       "      <td>NaN</td>\n",
       "      <td>298300.0</td>\n",
       "    </tr>\n",
       "    <tr>\n",
       "      <th>4</th>\n",
       "      <td>Albania</td>\n",
       "      <td>1985</td>\n",
       "      <td>female</td>\n",
       "      <td>55-74 years</td>\n",
       "      <td>NaN</td>\n",
       "      <td>138700.0</td>\n",
       "    </tr>\n",
       "  </tbody>\n",
       "</table>\n",
       "</div>"
      ],
      "text/plain": [
       "   country  year     sex          age  suicides_no  population\n",
       "0  Albania  1985  female  15-24 years          NaN    277900.0\n",
       "1  Albania  1985  female  25-34 years          NaN    246800.0\n",
       "2  Albania  1985  female  35-54 years          NaN    267500.0\n",
       "3  Albania  1985  female   5-14 years          NaN    298300.0\n",
       "4  Albania  1985  female  55-74 years          NaN    138700.0"
      ]
     },
     "execution_count": 142,
     "metadata": {},
     "output_type": "execute_result"
    }
   ],
   "source": [
    "# show the first 5 rows using dataframe.head() method\n",
    "df.head()"
   ]
  },
  {
   "cell_type": "code",
   "execution_count": 143,
   "metadata": {},
   "outputs": [
    {
     "data": {
      "text/html": [
       "<div>\n",
       "<style scoped>\n",
       "    .dataframe tbody tr th:only-of-type {\n",
       "        vertical-align: middle;\n",
       "    }\n",
       "\n",
       "    .dataframe tbody tr th {\n",
       "        vertical-align: top;\n",
       "    }\n",
       "\n",
       "    .dataframe thead th {\n",
       "        text-align: right;\n",
       "    }\n",
       "</style>\n",
       "<table border=\"1\" class=\"dataframe\">\n",
       "  <thead>\n",
       "    <tr style=\"text-align: right;\">\n",
       "      <th></th>\n",
       "      <th>country</th>\n",
       "      <th>year</th>\n",
       "      <th>sex</th>\n",
       "      <th>age</th>\n",
       "      <th>suicides_no</th>\n",
       "      <th>population</th>\n",
       "    </tr>\n",
       "  </thead>\n",
       "  <tbody>\n",
       "    <tr>\n",
       "      <th>43771</th>\n",
       "      <td>Zimbabwe</td>\n",
       "      <td>1990</td>\n",
       "      <td>male</td>\n",
       "      <td>25-34 years</td>\n",
       "      <td>150.0</td>\n",
       "      <td>NaN</td>\n",
       "    </tr>\n",
       "    <tr>\n",
       "      <th>43772</th>\n",
       "      <td>Zimbabwe</td>\n",
       "      <td>1990</td>\n",
       "      <td>male</td>\n",
       "      <td>35-54 years</td>\n",
       "      <td>132.0</td>\n",
       "      <td>NaN</td>\n",
       "    </tr>\n",
       "    <tr>\n",
       "      <th>43773</th>\n",
       "      <td>Zimbabwe</td>\n",
       "      <td>1990</td>\n",
       "      <td>male</td>\n",
       "      <td>5-14 years</td>\n",
       "      <td>6.0</td>\n",
       "      <td>NaN</td>\n",
       "    </tr>\n",
       "    <tr>\n",
       "      <th>43774</th>\n",
       "      <td>Zimbabwe</td>\n",
       "      <td>1990</td>\n",
       "      <td>male</td>\n",
       "      <td>55-74 years</td>\n",
       "      <td>74.0</td>\n",
       "      <td>NaN</td>\n",
       "    </tr>\n",
       "    <tr>\n",
       "      <th>43775</th>\n",
       "      <td>Zimbabwe</td>\n",
       "      <td>1990</td>\n",
       "      <td>male</td>\n",
       "      <td>75+ years</td>\n",
       "      <td>13.0</td>\n",
       "      <td>NaN</td>\n",
       "    </tr>\n",
       "  </tbody>\n",
       "</table>\n",
       "</div>"
      ],
      "text/plain": [
       "        country  year   sex          age  suicides_no  population\n",
       "43771  Zimbabwe  1990  male  25-34 years        150.0         NaN\n",
       "43772  Zimbabwe  1990  male  35-54 years        132.0         NaN\n",
       "43773  Zimbabwe  1990  male   5-14 years          6.0         NaN\n",
       "43774  Zimbabwe  1990  male  55-74 years         74.0         NaN\n",
       "43775  Zimbabwe  1990  male    75+ years         13.0         NaN"
      ]
     },
     "execution_count": 143,
     "metadata": {},
     "output_type": "execute_result"
    }
   ],
   "source": [
    "# show the last 5 rows using dataframe.head() method\n",
    "df.tail()"
   ]
  },
  {
   "cell_type": "code",
   "execution_count": 144,
   "metadata": {},
   "outputs": [
    {
     "name": "stdout",
     "output_type": "stream",
     "text": [
      "<class 'pandas.core.frame.DataFrame'>\n",
      "RangeIndex: 43776 entries, 0 to 43775\n",
      "Data columns (total 6 columns):\n",
      "country        43776 non-null object\n",
      "year           43776 non-null int64\n",
      "sex            43776 non-null object\n",
      "age            43776 non-null object\n",
      "suicides_no    41520 non-null float64\n",
      "population     38316 non-null float64\n",
      "dtypes: float64(2), int64(1), object(3)\n",
      "memory usage: 2.0+ MB\n"
     ]
    }
   ],
   "source": [
    "df.info()"
   ]
  },
  {
   "cell_type": "markdown",
   "metadata": {},
   "source": [
    "# Cleaning Data"
   ]
  },
  {
   "cell_type": "code",
   "execution_count": 145,
   "metadata": {},
   "outputs": [
    {
     "data": {
      "text/html": [
       "<div>\n",
       "<style scoped>\n",
       "    .dataframe tbody tr th:only-of-type {\n",
       "        vertical-align: middle;\n",
       "    }\n",
       "\n",
       "    .dataframe tbody tr th {\n",
       "        vertical-align: top;\n",
       "    }\n",
       "\n",
       "    .dataframe thead th {\n",
       "        text-align: right;\n",
       "    }\n",
       "</style>\n",
       "<table border=\"1\" class=\"dataframe\">\n",
       "  <thead>\n",
       "    <tr style=\"text-align: right;\">\n",
       "      <th></th>\n",
       "      <th>country</th>\n",
       "      <th>year</th>\n",
       "      <th>sex</th>\n",
       "      <th>age</th>\n",
       "      <th>suicides_no</th>\n",
       "      <th>population</th>\n",
       "      <th>crude_rate_per_100k</th>\n",
       "    </tr>\n",
       "  </thead>\n",
       "  <tbody>\n",
       "    <tr>\n",
       "      <th>0</th>\n",
       "      <td>Albania</td>\n",
       "      <td>1985</td>\n",
       "      <td>female</td>\n",
       "      <td>15-24</td>\n",
       "      <td>NaN</td>\n",
       "      <td>277900.0</td>\n",
       "      <td>NaN</td>\n",
       "    </tr>\n",
       "    <tr>\n",
       "      <th>1</th>\n",
       "      <td>Albania</td>\n",
       "      <td>1985</td>\n",
       "      <td>female</td>\n",
       "      <td>25-34</td>\n",
       "      <td>NaN</td>\n",
       "      <td>246800.0</td>\n",
       "      <td>NaN</td>\n",
       "    </tr>\n",
       "    <tr>\n",
       "      <th>10000</th>\n",
       "      <td>Croatia</td>\n",
       "      <td>2007</td>\n",
       "      <td>female</td>\n",
       "      <td>55-74</td>\n",
       "      <td>84.0</td>\n",
       "      <td>533554.0</td>\n",
       "      <td>15.743486</td>\n",
       "    </tr>\n",
       "    <tr>\n",
       "      <th>10001</th>\n",
       "      <td>Croatia</td>\n",
       "      <td>2007</td>\n",
       "      <td>female</td>\n",
       "      <td>75+</td>\n",
       "      <td>45.0</td>\n",
       "      <td>204595.0</td>\n",
       "      <td>21.994672</td>\n",
       "    </tr>\n",
       "    <tr>\n",
       "      <th>43774</th>\n",
       "      <td>Zimbabwe</td>\n",
       "      <td>1990</td>\n",
       "      <td>male</td>\n",
       "      <td>55-74</td>\n",
       "      <td>74.0</td>\n",
       "      <td>NaN</td>\n",
       "      <td>NaN</td>\n",
       "    </tr>\n",
       "    <tr>\n",
       "      <th>43775</th>\n",
       "      <td>Zimbabwe</td>\n",
       "      <td>1990</td>\n",
       "      <td>male</td>\n",
       "      <td>75+</td>\n",
       "      <td>13.0</td>\n",
       "      <td>NaN</td>\n",
       "      <td>NaN</td>\n",
       "    </tr>\n",
       "  </tbody>\n",
       "</table>\n",
       "</div>"
      ],
      "text/plain": [
       "        country  year     sex    age  suicides_no  population  \\\n",
       "0       Albania  1985  female  15-24          NaN    277900.0   \n",
       "1       Albania  1985  female  25-34          NaN    246800.0   \n",
       "10000   Croatia  2007  female  55-74         84.0    533554.0   \n",
       "10001   Croatia  2007  female    75+         45.0    204595.0   \n",
       "43774  Zimbabwe  1990    male  55-74         74.0         NaN   \n",
       "43775  Zimbabwe  1990    male    75+         13.0         NaN   \n",
       "\n",
       "       crude_rate_per_100k  \n",
       "0                      NaN  \n",
       "1                      NaN  \n",
       "10000            15.743486  \n",
       "10001            21.994672  \n",
       "43774                  NaN  \n",
       "43775                  NaN  "
      ]
     },
     "execution_count": 145,
     "metadata": {},
     "output_type": "execute_result"
    }
   ],
   "source": [
    "# having 'years' in the age group seems unnecessary, and '05-14' will sort better than '5-14'\n",
    "df.loc[:, 'age'] = df['age'].str.replace(' years','')\n",
    "df.loc[df['age'] == '5-14', 'age'] = '05-14'\n",
    "\n",
    "# crude rate calculation\n",
    "df['crude_rate_per_100k'] = df['suicides_no'] / (df['population'] / 100000)\n",
    "\n",
    "# preview\n",
    "pd.concat([df[:2], df[10000:10002],df[-2:]])\n"
   ]
  },
  {
   "cell_type": "markdown",
   "metadata": {},
   "source": [
    "# Statistical Summary \n",
    "get the quick statistics, we use the describe method. \n",
    "It returns the number of terms in the column as \n",
    "- count,\n",
    "- average column value as mean, \n",
    "- column standard deviation as std, \n",
    "- the maximum minimum values, \n",
    "- as well as the boundary of each of the quartiles.\n",
    "\n",
    "By default, the data frame. describe function skips rows and columns that do not contain numbers."
   ]
  },
  {
   "cell_type": "code",
   "execution_count": 146,
   "metadata": {},
   "outputs": [
    {
     "data": {
      "text/html": [
       "<div>\n",
       "<style scoped>\n",
       "    .dataframe tbody tr th:only-of-type {\n",
       "        vertical-align: middle;\n",
       "    }\n",
       "\n",
       "    .dataframe tbody tr th {\n",
       "        vertical-align: top;\n",
       "    }\n",
       "\n",
       "    .dataframe thead th {\n",
       "        text-align: right;\n",
       "    }\n",
       "</style>\n",
       "<table border=\"1\" class=\"dataframe\">\n",
       "  <thead>\n",
       "    <tr style=\"text-align: right;\">\n",
       "      <th></th>\n",
       "      <th>year</th>\n",
       "      <th>suicides_no</th>\n",
       "      <th>population</th>\n",
       "      <th>crude_rate_per_100k</th>\n",
       "    </tr>\n",
       "  </thead>\n",
       "  <tbody>\n",
       "    <tr>\n",
       "      <th>count</th>\n",
       "      <td>43776.000000</td>\n",
       "      <td>41520.000000</td>\n",
       "      <td>3.831600e+04</td>\n",
       "      <td>36060.000000</td>\n",
       "    </tr>\n",
       "    <tr>\n",
       "      <th>mean</th>\n",
       "      <td>1998.502467</td>\n",
       "      <td>193.315390</td>\n",
       "      <td>1.664091e+06</td>\n",
       "      <td>13.185094</td>\n",
       "    </tr>\n",
       "    <tr>\n",
       "      <th>std</th>\n",
       "      <td>10.338711</td>\n",
       "      <td>800.589926</td>\n",
       "      <td>3.647231e+06</td>\n",
       "      <td>19.902566</td>\n",
       "    </tr>\n",
       "    <tr>\n",
       "      <th>min</th>\n",
       "      <td>1979.000000</td>\n",
       "      <td>0.000000</td>\n",
       "      <td>2.590000e+02</td>\n",
       "      <td>0.000000</td>\n",
       "    </tr>\n",
       "    <tr>\n",
       "      <th>25%</th>\n",
       "      <td>1990.000000</td>\n",
       "      <td>1.000000</td>\n",
       "      <td>8.511275e+04</td>\n",
       "      <td>0.781784</td>\n",
       "    </tr>\n",
       "    <tr>\n",
       "      <th>50%</th>\n",
       "      <td>1999.000000</td>\n",
       "      <td>14.000000</td>\n",
       "      <td>3.806550e+05</td>\n",
       "      <td>5.975607</td>\n",
       "    </tr>\n",
       "    <tr>\n",
       "      <th>75%</th>\n",
       "      <td>2007.000000</td>\n",
       "      <td>91.000000</td>\n",
       "      <td>1.305698e+06</td>\n",
       "      <td>17.010064</td>\n",
       "    </tr>\n",
       "    <tr>\n",
       "      <th>max</th>\n",
       "      <td>2016.000000</td>\n",
       "      <td>22338.000000</td>\n",
       "      <td>4.380521e+07</td>\n",
       "      <td>300.751880</td>\n",
       "    </tr>\n",
       "  </tbody>\n",
       "</table>\n",
       "</div>"
      ],
      "text/plain": [
       "               year   suicides_no    population  crude_rate_per_100k\n",
       "count  43776.000000  41520.000000  3.831600e+04         36060.000000\n",
       "mean    1998.502467    193.315390  1.664091e+06            13.185094\n",
       "std       10.338711    800.589926  3.647231e+06            19.902566\n",
       "min     1979.000000      0.000000  2.590000e+02             0.000000\n",
       "25%     1990.000000      1.000000  8.511275e+04             0.781784\n",
       "50%     1999.000000     14.000000  3.806550e+05             5.975607\n",
       "75%     2007.000000     91.000000  1.305698e+06            17.010064\n",
       "max     2016.000000  22338.000000  4.380521e+07           300.751880"
      ]
     },
     "execution_count": 146,
     "metadata": {},
     "output_type": "execute_result"
    }
   ],
   "source": [
    "df.describe()"
   ]
  },
  {
   "cell_type": "markdown",
   "metadata": {},
   "source": [
    "# Full Summary Statistics \n",
    "We see that for the object type columns, a different set of statistics is evaluated like, \n",
    "- unique, \n",
    "\n",
    "Unique is the number of distinct objects in the column. \n",
    "\n",
    "- top,\n",
    "\n",
    "Top is most frequently occurring object.\n",
    "\n",
    "- and frequency. \n",
    "\n",
    " And freq is the number of times the top object appears in the column.\n",
    " \n",
    " Some values in the table are shown here as NaN, which stands for not a number. This is because that\n",
    " particular statistical metric cannot be calculated for that specific column data type."
   ]
  },
  {
   "cell_type": "code",
   "execution_count": 147,
   "metadata": {},
   "outputs": [
    {
     "data": {
      "text/html": [
       "<div>\n",
       "<style scoped>\n",
       "    .dataframe tbody tr th:only-of-type {\n",
       "        vertical-align: middle;\n",
       "    }\n",
       "\n",
       "    .dataframe tbody tr th {\n",
       "        vertical-align: top;\n",
       "    }\n",
       "\n",
       "    .dataframe thead th {\n",
       "        text-align: right;\n",
       "    }\n",
       "</style>\n",
       "<table border=\"1\" class=\"dataframe\">\n",
       "  <thead>\n",
       "    <tr style=\"text-align: right;\">\n",
       "      <th></th>\n",
       "      <th>country</th>\n",
       "      <th>year</th>\n",
       "      <th>sex</th>\n",
       "      <th>age</th>\n",
       "      <th>suicides_no</th>\n",
       "      <th>population</th>\n",
       "      <th>crude_rate_per_100k</th>\n",
       "    </tr>\n",
       "  </thead>\n",
       "  <tbody>\n",
       "    <tr>\n",
       "      <th>count</th>\n",
       "      <td>43776</td>\n",
       "      <td>43776.000000</td>\n",
       "      <td>43776</td>\n",
       "      <td>43776</td>\n",
       "      <td>41520.000000</td>\n",
       "      <td>3.831600e+04</td>\n",
       "      <td>36060.000000</td>\n",
       "    </tr>\n",
       "    <tr>\n",
       "      <th>unique</th>\n",
       "      <td>141</td>\n",
       "      <td>NaN</td>\n",
       "      <td>2</td>\n",
       "      <td>6</td>\n",
       "      <td>NaN</td>\n",
       "      <td>NaN</td>\n",
       "      <td>NaN</td>\n",
       "    </tr>\n",
       "    <tr>\n",
       "      <th>top</th>\n",
       "      <td>Israel</td>\n",
       "      <td>NaN</td>\n",
       "      <td>male</td>\n",
       "      <td>15-24</td>\n",
       "      <td>NaN</td>\n",
       "      <td>NaN</td>\n",
       "      <td>NaN</td>\n",
       "    </tr>\n",
       "    <tr>\n",
       "      <th>freq</th>\n",
       "      <td>456</td>\n",
       "      <td>NaN</td>\n",
       "      <td>21888</td>\n",
       "      <td>7296</td>\n",
       "      <td>NaN</td>\n",
       "      <td>NaN</td>\n",
       "      <td>NaN</td>\n",
       "    </tr>\n",
       "    <tr>\n",
       "      <th>mean</th>\n",
       "      <td>NaN</td>\n",
       "      <td>1998.502467</td>\n",
       "      <td>NaN</td>\n",
       "      <td>NaN</td>\n",
       "      <td>193.315390</td>\n",
       "      <td>1.664091e+06</td>\n",
       "      <td>13.185094</td>\n",
       "    </tr>\n",
       "    <tr>\n",
       "      <th>std</th>\n",
       "      <td>NaN</td>\n",
       "      <td>10.338711</td>\n",
       "      <td>NaN</td>\n",
       "      <td>NaN</td>\n",
       "      <td>800.589926</td>\n",
       "      <td>3.647231e+06</td>\n",
       "      <td>19.902566</td>\n",
       "    </tr>\n",
       "    <tr>\n",
       "      <th>min</th>\n",
       "      <td>NaN</td>\n",
       "      <td>1979.000000</td>\n",
       "      <td>NaN</td>\n",
       "      <td>NaN</td>\n",
       "      <td>0.000000</td>\n",
       "      <td>2.590000e+02</td>\n",
       "      <td>0.000000</td>\n",
       "    </tr>\n",
       "    <tr>\n",
       "      <th>25%</th>\n",
       "      <td>NaN</td>\n",
       "      <td>1990.000000</td>\n",
       "      <td>NaN</td>\n",
       "      <td>NaN</td>\n",
       "      <td>1.000000</td>\n",
       "      <td>8.511275e+04</td>\n",
       "      <td>0.781784</td>\n",
       "    </tr>\n",
       "    <tr>\n",
       "      <th>50%</th>\n",
       "      <td>NaN</td>\n",
       "      <td>1999.000000</td>\n",
       "      <td>NaN</td>\n",
       "      <td>NaN</td>\n",
       "      <td>14.000000</td>\n",
       "      <td>3.806550e+05</td>\n",
       "      <td>5.975607</td>\n",
       "    </tr>\n",
       "    <tr>\n",
       "      <th>75%</th>\n",
       "      <td>NaN</td>\n",
       "      <td>2007.000000</td>\n",
       "      <td>NaN</td>\n",
       "      <td>NaN</td>\n",
       "      <td>91.000000</td>\n",
       "      <td>1.305698e+06</td>\n",
       "      <td>17.010064</td>\n",
       "    </tr>\n",
       "    <tr>\n",
       "      <th>max</th>\n",
       "      <td>NaN</td>\n",
       "      <td>2016.000000</td>\n",
       "      <td>NaN</td>\n",
       "      <td>NaN</td>\n",
       "      <td>22338.000000</td>\n",
       "      <td>4.380521e+07</td>\n",
       "      <td>300.751880</td>\n",
       "    </tr>\n",
       "  </tbody>\n",
       "</table>\n",
       "</div>"
      ],
      "text/plain": [
       "       country          year    sex    age   suicides_no    population  \\\n",
       "count    43776  43776.000000  43776  43776  41520.000000  3.831600e+04   \n",
       "unique     141           NaN      2      6           NaN           NaN   \n",
       "top     Israel           NaN   male  15-24           NaN           NaN   \n",
       "freq       456           NaN  21888   7296           NaN           NaN   \n",
       "mean       NaN   1998.502467    NaN    NaN    193.315390  1.664091e+06   \n",
       "std        NaN     10.338711    NaN    NaN    800.589926  3.647231e+06   \n",
       "min        NaN   1979.000000    NaN    NaN      0.000000  2.590000e+02   \n",
       "25%        NaN   1990.000000    NaN    NaN      1.000000  8.511275e+04   \n",
       "50%        NaN   1999.000000    NaN    NaN     14.000000  3.806550e+05   \n",
       "75%        NaN   2007.000000    NaN    NaN     91.000000  1.305698e+06   \n",
       "max        NaN   2016.000000    NaN    NaN  22338.000000  4.380521e+07   \n",
       "\n",
       "        crude_rate_per_100k  \n",
       "count          36060.000000  \n",
       "unique                  NaN  \n",
       "top                     NaN  \n",
       "freq                    NaN  \n",
       "mean              13.185094  \n",
       "std               19.902566  \n",
       "min                0.000000  \n",
       "25%                0.781784  \n",
       "50%                5.975607  \n",
       "75%               17.010064  \n",
       "max              300.751880  "
      ]
     },
     "execution_count": 147,
     "metadata": {},
     "output_type": "execute_result"
    }
   ],
   "source": [
    "df.describe(include='all')"
   ]
  },
  {
   "cell_type": "markdown",
   "metadata": {},
   "source": [
    "## Info\n",
    "Another method you can use to check your dataset is:\n",
    "~~~~\n",
    "dataframe.info\n",
    "~~~~\n",
    "It provides a concise summary of your DataFrame.\n",
    "\n",
    "Here we are able to see the information of our dataframe, with the top 30 rows and the bottom 30 rows."
   ]
  },
  {
   "cell_type": "code",
   "execution_count": 148,
   "metadata": {},
   "outputs": [
    {
     "data": {
      "text/plain": [
       "<bound method DataFrame.info of                     country  year     sex    age  suicides_no  population  \\\n",
       "0                   Albania  1985  female  15-24          NaN    277900.0   \n",
       "1                   Albania  1985  female  25-34          NaN    246800.0   \n",
       "2                   Albania  1985  female  35-54          NaN    267500.0   \n",
       "3                   Albania  1985  female  05-14          NaN    298300.0   \n",
       "4                   Albania  1985  female  55-74          NaN    138700.0   \n",
       "5                   Albania  1985  female    75+          NaN     34200.0   \n",
       "6                   Albania  1985    male  15-24          NaN    301400.0   \n",
       "7                   Albania  1985    male  25-34          NaN    264200.0   \n",
       "8                   Albania  1985    male  35-54          NaN    296700.0   \n",
       "9                   Albania  1985    male  05-14          NaN    325800.0   \n",
       "10                  Albania  1985    male  55-74          NaN    132500.0   \n",
       "11                  Albania  1985    male    75+          NaN     21100.0   \n",
       "12                  Albania  1986  female  15-24          NaN    283900.0   \n",
       "13                  Albania  1986  female  25-34          NaN    252100.0   \n",
       "14                  Albania  1986  female  35-54          NaN    273200.0   \n",
       "15                  Albania  1986  female  05-14          NaN    304700.0   \n",
       "16                  Albania  1986  female  55-74          NaN    141700.0   \n",
       "17                  Albania  1986  female    75+          NaN     34900.0   \n",
       "18                  Albania  1986    male  15-24          NaN    306700.0   \n",
       "19                  Albania  1986    male  25-34          NaN    269000.0   \n",
       "20                  Albania  1986    male  35-54          NaN    302000.0   \n",
       "21                  Albania  1986    male  05-14          NaN    331600.0   \n",
       "22                  Albania  1986    male  55-74          NaN    134800.0   \n",
       "23                  Albania  1986    male    75+          NaN     21400.0   \n",
       "24                  Albania  1987  female  15-24         14.0    289700.0   \n",
       "25                  Albania  1987  female  25-34          4.0    257200.0   \n",
       "26                  Albania  1987  female  35-54          6.0    278800.0   \n",
       "27                  Albania  1987  female  05-14          0.0    311000.0   \n",
       "28                  Albania  1987  female  55-74          0.0    144600.0   \n",
       "29                  Albania  1987  female    75+          1.0     35600.0   \n",
       "...                     ...   ...     ...    ...          ...         ...   \n",
       "43746  Virgin Islands (USA)  2012    male  15-24          2.0      6663.0   \n",
       "43747  Virgin Islands (USA)  2012    male  25-34          2.0      5061.0   \n",
       "43748  Virgin Islands (USA)  2012    male  35-54          2.0     13542.0   \n",
       "43749  Virgin Islands (USA)  2012    male  05-14          0.0      7334.0   \n",
       "43750  Virgin Islands (USA)  2012    male  55-74          0.0     11957.0   \n",
       "43751  Virgin Islands (USA)  2012    male    75+          0.0      2135.0   \n",
       "43752  Virgin Islands (USA)  2015  female  15-24          0.0      6675.0   \n",
       "43753  Virgin Islands (USA)  2015  female  25-34          0.0      5662.0   \n",
       "43754  Virgin Islands (USA)  2015  female  35-54          0.0     14278.0   \n",
       "43755  Virgin Islands (USA)  2015  female  05-14          0.0      7099.0   \n",
       "43756  Virgin Islands (USA)  2015  female  55-74          0.0     14269.0   \n",
       "43757  Virgin Islands (USA)  2015  female    75+          0.0      3508.0   \n",
       "43758  Virgin Islands (USA)  2015    male  15-24          0.0      6933.0   \n",
       "43759  Virgin Islands (USA)  2015    male  25-34          2.0      4609.0   \n",
       "43760  Virgin Islands (USA)  2015    male  35-54          1.0     12516.0   \n",
       "43761  Virgin Islands (USA)  2015    male  05-14          0.0      7291.0   \n",
       "43762  Virgin Islands (USA)  2015    male  55-74          0.0     12615.0   \n",
       "43763  Virgin Islands (USA)  2015    male    75+          0.0      2496.0   \n",
       "43764              Zimbabwe  1990  female  15-24        124.0         NaN   \n",
       "43765              Zimbabwe  1990  female  25-34         59.0         NaN   \n",
       "43766              Zimbabwe  1990  female  35-54         45.0         NaN   \n",
       "43767              Zimbabwe  1990  female  05-14          6.0         NaN   \n",
       "43768              Zimbabwe  1990  female  55-74         20.0         NaN   \n",
       "43769              Zimbabwe  1990  female    75+          3.0         NaN   \n",
       "43770              Zimbabwe  1990    male  15-24        132.0         NaN   \n",
       "43771              Zimbabwe  1990    male  25-34        150.0         NaN   \n",
       "43772              Zimbabwe  1990    male  35-54        132.0         NaN   \n",
       "43773              Zimbabwe  1990    male  05-14          6.0         NaN   \n",
       "43774              Zimbabwe  1990    male  55-74         74.0         NaN   \n",
       "43775              Zimbabwe  1990    male    75+         13.0         NaN   \n",
       "\n",
       "       crude_rate_per_100k  \n",
       "0                      NaN  \n",
       "1                      NaN  \n",
       "2                      NaN  \n",
       "3                      NaN  \n",
       "4                      NaN  \n",
       "5                      NaN  \n",
       "6                      NaN  \n",
       "7                      NaN  \n",
       "8                      NaN  \n",
       "9                      NaN  \n",
       "10                     NaN  \n",
       "11                     NaN  \n",
       "12                     NaN  \n",
       "13                     NaN  \n",
       "14                     NaN  \n",
       "15                     NaN  \n",
       "16                     NaN  \n",
       "17                     NaN  \n",
       "18                     NaN  \n",
       "19                     NaN  \n",
       "20                     NaN  \n",
       "21                     NaN  \n",
       "22                     NaN  \n",
       "23                     NaN  \n",
       "24                4.832585  \n",
       "25                1.555210  \n",
       "26                2.152080  \n",
       "27                0.000000  \n",
       "28                0.000000  \n",
       "29                2.808989  \n",
       "...                    ...  \n",
       "43746            30.016509  \n",
       "43747            39.517882  \n",
       "43748            14.768867  \n",
       "43749             0.000000  \n",
       "43750             0.000000  \n",
       "43751             0.000000  \n",
       "43752             0.000000  \n",
       "43753             0.000000  \n",
       "43754             0.000000  \n",
       "43755             0.000000  \n",
       "43756             0.000000  \n",
       "43757             0.000000  \n",
       "43758             0.000000  \n",
       "43759            43.393361  \n",
       "43760             7.989773  \n",
       "43761             0.000000  \n",
       "43762             0.000000  \n",
       "43763             0.000000  \n",
       "43764                  NaN  \n",
       "43765                  NaN  \n",
       "43766                  NaN  \n",
       "43767                  NaN  \n",
       "43768                  NaN  \n",
       "43769                  NaN  \n",
       "43770                  NaN  \n",
       "43771                  NaN  \n",
       "43772                  NaN  \n",
       "43773                  NaN  \n",
       "43774                  NaN  \n",
       "43775                  NaN  \n",
       "\n",
       "[43776 rows x 7 columns]>"
      ]
     },
     "execution_count": 148,
     "metadata": {},
     "output_type": "execute_result"
    }
   ],
   "source": [
    "df.info"
   ]
  },
  {
   "cell_type": "markdown",
   "metadata": {},
   "source": [
    "# Evaluating for Missing Data\n",
    "The missing values are converted to Python's default. We use Python's built-in functions to identify these missing values. There are two methods to detect missing data:\n",
    "\n",
    "- .isnull()\n",
    "\n",
    "\n",
    "- .notnull()\n",
    "\n",
    "The output is a boolean value indicating whether the dataframe is missing data."
   ]
  },
  {
   "cell_type": "code",
   "execution_count": 149,
   "metadata": {},
   "outputs": [
    {
     "data": {
      "text/html": [
       "<div>\n",
       "<style scoped>\n",
       "    .dataframe tbody tr th:only-of-type {\n",
       "        vertical-align: middle;\n",
       "    }\n",
       "\n",
       "    .dataframe tbody tr th {\n",
       "        vertical-align: top;\n",
       "    }\n",
       "\n",
       "    .dataframe thead th {\n",
       "        text-align: right;\n",
       "    }\n",
       "</style>\n",
       "<table border=\"1\" class=\"dataframe\">\n",
       "  <thead>\n",
       "    <tr style=\"text-align: right;\">\n",
       "      <th></th>\n",
       "      <th>country</th>\n",
       "      <th>year</th>\n",
       "      <th>sex</th>\n",
       "      <th>age</th>\n",
       "      <th>suicides_no</th>\n",
       "      <th>population</th>\n",
       "      <th>crude_rate_per_100k</th>\n",
       "    </tr>\n",
       "  </thead>\n",
       "  <tbody>\n",
       "    <tr>\n",
       "      <th>0</th>\n",
       "      <td>False</td>\n",
       "      <td>False</td>\n",
       "      <td>False</td>\n",
       "      <td>False</td>\n",
       "      <td>True</td>\n",
       "      <td>False</td>\n",
       "      <td>True</td>\n",
       "    </tr>\n",
       "    <tr>\n",
       "      <th>1</th>\n",
       "      <td>False</td>\n",
       "      <td>False</td>\n",
       "      <td>False</td>\n",
       "      <td>False</td>\n",
       "      <td>True</td>\n",
       "      <td>False</td>\n",
       "      <td>True</td>\n",
       "    </tr>\n",
       "    <tr>\n",
       "      <th>2</th>\n",
       "      <td>False</td>\n",
       "      <td>False</td>\n",
       "      <td>False</td>\n",
       "      <td>False</td>\n",
       "      <td>True</td>\n",
       "      <td>False</td>\n",
       "      <td>True</td>\n",
       "    </tr>\n",
       "    <tr>\n",
       "      <th>3</th>\n",
       "      <td>False</td>\n",
       "      <td>False</td>\n",
       "      <td>False</td>\n",
       "      <td>False</td>\n",
       "      <td>True</td>\n",
       "      <td>False</td>\n",
       "      <td>True</td>\n",
       "    </tr>\n",
       "    <tr>\n",
       "      <th>4</th>\n",
       "      <td>False</td>\n",
       "      <td>False</td>\n",
       "      <td>False</td>\n",
       "      <td>False</td>\n",
       "      <td>True</td>\n",
       "      <td>False</td>\n",
       "      <td>True</td>\n",
       "    </tr>\n",
       "  </tbody>\n",
       "</table>\n",
       "</div>"
      ],
      "text/plain": [
       "   country   year    sex    age  suicides_no  population  crude_rate_per_100k\n",
       "0    False  False  False  False         True       False                 True\n",
       "1    False  False  False  False         True       False                 True\n",
       "2    False  False  False  False         True       False                 True\n",
       "3    False  False  False  False         True       False                 True\n",
       "4    False  False  False  False         True       False                 True"
      ]
     },
     "execution_count": 149,
     "metadata": {},
     "output_type": "execute_result"
    }
   ],
   "source": [
    "missing_data = df.isnull()\n",
    "missing_data.head(5)"
   ]
  },
  {
   "cell_type": "markdown",
   "metadata": {},
   "source": [
    "### Count missing values in each column\n",
    "Using a for loop in Python, we can quickly figure out the number of missing values in each column. \n",
    "As mentioned above, \"True\" represents a missing value, \"False\"  means the value is present in the dataset. \n",
    "In the body of the for loop the method  \".value_couts()\"  counts the number of \"True\" values. "
   ]
  },
  {
   "cell_type": "code",
   "execution_count": 150,
   "metadata": {},
   "outputs": [
    {
     "name": "stdout",
     "output_type": "stream",
     "text": [
      "country\n",
      "False    43776\n",
      "Name: country, dtype: int64\n",
      "\n",
      "year\n",
      "False    43776\n",
      "Name: year, dtype: int64\n",
      "\n",
      "sex\n",
      "False    43776\n",
      "Name: sex, dtype: int64\n",
      "\n",
      "age\n",
      "False    43776\n",
      "Name: age, dtype: int64\n",
      "\n",
      "suicides_no\n",
      "False    41520\n",
      "True      2256\n",
      "Name: suicides_no, dtype: int64\n",
      "\n",
      "population\n",
      "False    38316\n",
      "True      5460\n",
      "Name: population, dtype: int64\n",
      "\n",
      "crude_rate_per_100k\n",
      "False    36060\n",
      "True      7716\n",
      "Name: crude_rate_per_100k, dtype: int64\n",
      "\n"
     ]
    }
   ],
   "source": [
    "for column in missing_data.columns.values.tolist():\n",
    "    print(column)\n",
    "    print (missing_data[column].value_counts())\n",
    "    print(\"\")  "
   ]
  },
  {
   "cell_type": "markdown",
   "metadata": {},
   "source": [
    "Based on the summary above, each column has 205 rows of data, with seven columns containing missing data:\n",
    "\n",
    "1. \"suicides_no\":           2256 missing data\n",
    "2. \"population\":            5460  missing data\n",
    "3. \"crude_rate_per_100k\":   7716 missing data\n"
   ]
  },
  {
   "cell_type": "markdown",
   "metadata": {},
   "source": [
    "# Deal with missing data\n",
    "How to deal with missing data:\n",
    "\n",
    "1. Drop data \n",
    "    a. drop the whole row\n",
    "    b. drop the whole column\n",
    "2. Replace data\n",
    "    a. replace it by mean\n",
    "    b. replace it by frequency\n",
    "    c. replace it based on other functions"
   ]
  },
  {
   "cell_type": "markdown",
   "metadata": {},
   "source": [
    "#### Calculate the mean value for the 'population' column:"
   ]
  },
  {
   "cell_type": "code",
   "execution_count": 151,
   "metadata": {},
   "outputs": [],
   "source": [
    "mean_p=df['suicides_no'].astype('float').mean(axis=0)"
   ]
  },
  {
   "cell_type": "markdown",
   "metadata": {},
   "source": [
    "#### Replace \"NaN\" by mean value :"
   ]
  },
  {
   "cell_type": "code",
   "execution_count": 152,
   "metadata": {},
   "outputs": [],
   "source": [
    "df['population'].replace(np.nan, mean_p, inplace= True)"
   ]
  },
  {
   "cell_type": "markdown",
   "metadata": {},
   "source": [
    "#### Calculate the mean value for the 'crude_rate_per_100k' column:"
   ]
  },
  {
   "cell_type": "code",
   "execution_count": 153,
   "metadata": {},
   "outputs": [],
   "source": [
    "mean_c=df['crude_rate_per_100k'].astype('float').mean(axis=0)"
   ]
  },
  {
   "cell_type": "markdown",
   "metadata": {},
   "source": [
    "#### Replace \"NaN\" by mean value :"
   ]
  },
  {
   "cell_type": "code",
   "execution_count": 154,
   "metadata": {},
   "outputs": [],
   "source": [
    "df['crude_rate_per_100k'].replace(np.nan, mean_c, inplace= True)"
   ]
  },
  {
   "cell_type": "markdown",
   "metadata": {},
   "source": [
    "#### Calculate the mean value for the 'suicides_no' column:"
   ]
  },
  {
   "cell_type": "code",
   "execution_count": 155,
   "metadata": {},
   "outputs": [],
   "source": [
    "mean_s=df['suicides_no'].astype('float').mean(axis=0)"
   ]
  },
  {
   "cell_type": "markdown",
   "metadata": {},
   "source": [
    "#### Replace \"NaN\" by mean value :"
   ]
  },
  {
   "cell_type": "code",
   "execution_count": 156,
   "metadata": {},
   "outputs": [],
   "source": [
    "df['suicides_no'].replace(np.nan, mean_s, inplace= True)"
   ]
  },
  {
   "cell_type": "code",
   "execution_count": 157,
   "metadata": {},
   "outputs": [
    {
     "data": {
      "text/html": [
       "<div>\n",
       "<style scoped>\n",
       "    .dataframe tbody tr th:only-of-type {\n",
       "        vertical-align: middle;\n",
       "    }\n",
       "\n",
       "    .dataframe tbody tr th {\n",
       "        vertical-align: top;\n",
       "    }\n",
       "\n",
       "    .dataframe thead th {\n",
       "        text-align: right;\n",
       "    }\n",
       "</style>\n",
       "<table border=\"1\" class=\"dataframe\">\n",
       "  <thead>\n",
       "    <tr style=\"text-align: right;\">\n",
       "      <th></th>\n",
       "      <th>country</th>\n",
       "      <th>year</th>\n",
       "      <th>sex</th>\n",
       "      <th>age</th>\n",
       "      <th>suicides_no</th>\n",
       "      <th>population</th>\n",
       "      <th>crude_rate_per_100k</th>\n",
       "    </tr>\n",
       "  </thead>\n",
       "  <tbody>\n",
       "    <tr>\n",
       "      <th>0</th>\n",
       "      <td>Albania</td>\n",
       "      <td>1985</td>\n",
       "      <td>female</td>\n",
       "      <td>15-24</td>\n",
       "      <td>193.31539</td>\n",
       "      <td>277900.0</td>\n",
       "      <td>13.185094</td>\n",
       "    </tr>\n",
       "    <tr>\n",
       "      <th>1</th>\n",
       "      <td>Albania</td>\n",
       "      <td>1985</td>\n",
       "      <td>female</td>\n",
       "      <td>25-34</td>\n",
       "      <td>193.31539</td>\n",
       "      <td>246800.0</td>\n",
       "      <td>13.185094</td>\n",
       "    </tr>\n",
       "    <tr>\n",
       "      <th>2</th>\n",
       "      <td>Albania</td>\n",
       "      <td>1985</td>\n",
       "      <td>female</td>\n",
       "      <td>35-54</td>\n",
       "      <td>193.31539</td>\n",
       "      <td>267500.0</td>\n",
       "      <td>13.185094</td>\n",
       "    </tr>\n",
       "    <tr>\n",
       "      <th>3</th>\n",
       "      <td>Albania</td>\n",
       "      <td>1985</td>\n",
       "      <td>female</td>\n",
       "      <td>05-14</td>\n",
       "      <td>193.31539</td>\n",
       "      <td>298300.0</td>\n",
       "      <td>13.185094</td>\n",
       "    </tr>\n",
       "    <tr>\n",
       "      <th>4</th>\n",
       "      <td>Albania</td>\n",
       "      <td>1985</td>\n",
       "      <td>female</td>\n",
       "      <td>55-74</td>\n",
       "      <td>193.31539</td>\n",
       "      <td>138700.0</td>\n",
       "      <td>13.185094</td>\n",
       "    </tr>\n",
       "    <tr>\n",
       "      <th>5</th>\n",
       "      <td>Albania</td>\n",
       "      <td>1985</td>\n",
       "      <td>female</td>\n",
       "      <td>75+</td>\n",
       "      <td>193.31539</td>\n",
       "      <td>34200.0</td>\n",
       "      <td>13.185094</td>\n",
       "    </tr>\n",
       "    <tr>\n",
       "      <th>6</th>\n",
       "      <td>Albania</td>\n",
       "      <td>1985</td>\n",
       "      <td>male</td>\n",
       "      <td>15-24</td>\n",
       "      <td>193.31539</td>\n",
       "      <td>301400.0</td>\n",
       "      <td>13.185094</td>\n",
       "    </tr>\n",
       "    <tr>\n",
       "      <th>7</th>\n",
       "      <td>Albania</td>\n",
       "      <td>1985</td>\n",
       "      <td>male</td>\n",
       "      <td>25-34</td>\n",
       "      <td>193.31539</td>\n",
       "      <td>264200.0</td>\n",
       "      <td>13.185094</td>\n",
       "    </tr>\n",
       "    <tr>\n",
       "      <th>8</th>\n",
       "      <td>Albania</td>\n",
       "      <td>1985</td>\n",
       "      <td>male</td>\n",
       "      <td>35-54</td>\n",
       "      <td>193.31539</td>\n",
       "      <td>296700.0</td>\n",
       "      <td>13.185094</td>\n",
       "    </tr>\n",
       "    <tr>\n",
       "      <th>9</th>\n",
       "      <td>Albania</td>\n",
       "      <td>1985</td>\n",
       "      <td>male</td>\n",
       "      <td>05-14</td>\n",
       "      <td>193.31539</td>\n",
       "      <td>325800.0</td>\n",
       "      <td>13.185094</td>\n",
       "    </tr>\n",
       "  </tbody>\n",
       "</table>\n",
       "</div>"
      ],
      "text/plain": [
       "   country  year     sex    age  suicides_no  population  crude_rate_per_100k\n",
       "0  Albania  1985  female  15-24    193.31539    277900.0            13.185094\n",
       "1  Albania  1985  female  25-34    193.31539    246800.0            13.185094\n",
       "2  Albania  1985  female  35-54    193.31539    267500.0            13.185094\n",
       "3  Albania  1985  female  05-14    193.31539    298300.0            13.185094\n",
       "4  Albania  1985  female  55-74    193.31539    138700.0            13.185094\n",
       "5  Albania  1985  female    75+    193.31539     34200.0            13.185094\n",
       "6  Albania  1985    male  15-24    193.31539    301400.0            13.185094\n",
       "7  Albania  1985    male  25-34    193.31539    264200.0            13.185094\n",
       "8  Albania  1985    male  35-54    193.31539    296700.0            13.185094\n",
       "9  Albania  1985    male  05-14    193.31539    325800.0            13.185094"
      ]
     },
     "execution_count": 157,
     "metadata": {},
     "output_type": "execute_result"
    }
   ],
   "source": [
    "df.head(10)"
   ]
  },
  {
   "cell_type": "code",
   "execution_count": 158,
   "metadata": {},
   "outputs": [
    {
     "data": {
      "text/html": [
       "<div>\n",
       "<style scoped>\n",
       "    .dataframe tbody tr th:only-of-type {\n",
       "        vertical-align: middle;\n",
       "    }\n",
       "\n",
       "    .dataframe tbody tr th {\n",
       "        vertical-align: top;\n",
       "    }\n",
       "\n",
       "    .dataframe thead th {\n",
       "        text-align: right;\n",
       "    }\n",
       "</style>\n",
       "<table border=\"1\" class=\"dataframe\">\n",
       "  <thead>\n",
       "    <tr style=\"text-align: right;\">\n",
       "      <th></th>\n",
       "      <th>country</th>\n",
       "      <th>year</th>\n",
       "      <th>sex</th>\n",
       "      <th>age</th>\n",
       "      <th>suicides_no</th>\n",
       "      <th>population</th>\n",
       "      <th>crude_rate_per_100k</th>\n",
       "    </tr>\n",
       "  </thead>\n",
       "  <tbody>\n",
       "    <tr>\n",
       "      <th>43766</th>\n",
       "      <td>Zimbabwe</td>\n",
       "      <td>1990</td>\n",
       "      <td>female</td>\n",
       "      <td>35-54</td>\n",
       "      <td>45.0</td>\n",
       "      <td>193.31539</td>\n",
       "      <td>13.185094</td>\n",
       "    </tr>\n",
       "    <tr>\n",
       "      <th>43767</th>\n",
       "      <td>Zimbabwe</td>\n",
       "      <td>1990</td>\n",
       "      <td>female</td>\n",
       "      <td>05-14</td>\n",
       "      <td>6.0</td>\n",
       "      <td>193.31539</td>\n",
       "      <td>13.185094</td>\n",
       "    </tr>\n",
       "    <tr>\n",
       "      <th>43768</th>\n",
       "      <td>Zimbabwe</td>\n",
       "      <td>1990</td>\n",
       "      <td>female</td>\n",
       "      <td>55-74</td>\n",
       "      <td>20.0</td>\n",
       "      <td>193.31539</td>\n",
       "      <td>13.185094</td>\n",
       "    </tr>\n",
       "    <tr>\n",
       "      <th>43769</th>\n",
       "      <td>Zimbabwe</td>\n",
       "      <td>1990</td>\n",
       "      <td>female</td>\n",
       "      <td>75+</td>\n",
       "      <td>3.0</td>\n",
       "      <td>193.31539</td>\n",
       "      <td>13.185094</td>\n",
       "    </tr>\n",
       "    <tr>\n",
       "      <th>43770</th>\n",
       "      <td>Zimbabwe</td>\n",
       "      <td>1990</td>\n",
       "      <td>male</td>\n",
       "      <td>15-24</td>\n",
       "      <td>132.0</td>\n",
       "      <td>193.31539</td>\n",
       "      <td>13.185094</td>\n",
       "    </tr>\n",
       "    <tr>\n",
       "      <th>43771</th>\n",
       "      <td>Zimbabwe</td>\n",
       "      <td>1990</td>\n",
       "      <td>male</td>\n",
       "      <td>25-34</td>\n",
       "      <td>150.0</td>\n",
       "      <td>193.31539</td>\n",
       "      <td>13.185094</td>\n",
       "    </tr>\n",
       "    <tr>\n",
       "      <th>43772</th>\n",
       "      <td>Zimbabwe</td>\n",
       "      <td>1990</td>\n",
       "      <td>male</td>\n",
       "      <td>35-54</td>\n",
       "      <td>132.0</td>\n",
       "      <td>193.31539</td>\n",
       "      <td>13.185094</td>\n",
       "    </tr>\n",
       "    <tr>\n",
       "      <th>43773</th>\n",
       "      <td>Zimbabwe</td>\n",
       "      <td>1990</td>\n",
       "      <td>male</td>\n",
       "      <td>05-14</td>\n",
       "      <td>6.0</td>\n",
       "      <td>193.31539</td>\n",
       "      <td>13.185094</td>\n",
       "    </tr>\n",
       "    <tr>\n",
       "      <th>43774</th>\n",
       "      <td>Zimbabwe</td>\n",
       "      <td>1990</td>\n",
       "      <td>male</td>\n",
       "      <td>55-74</td>\n",
       "      <td>74.0</td>\n",
       "      <td>193.31539</td>\n",
       "      <td>13.185094</td>\n",
       "    </tr>\n",
       "    <tr>\n",
       "      <th>43775</th>\n",
       "      <td>Zimbabwe</td>\n",
       "      <td>1990</td>\n",
       "      <td>male</td>\n",
       "      <td>75+</td>\n",
       "      <td>13.0</td>\n",
       "      <td>193.31539</td>\n",
       "      <td>13.185094</td>\n",
       "    </tr>\n",
       "  </tbody>\n",
       "</table>\n",
       "</div>"
      ],
      "text/plain": [
       "        country  year     sex    age  suicides_no  population  \\\n",
       "43766  Zimbabwe  1990  female  35-54         45.0   193.31539   \n",
       "43767  Zimbabwe  1990  female  05-14          6.0   193.31539   \n",
       "43768  Zimbabwe  1990  female  55-74         20.0   193.31539   \n",
       "43769  Zimbabwe  1990  female    75+          3.0   193.31539   \n",
       "43770  Zimbabwe  1990    male  15-24        132.0   193.31539   \n",
       "43771  Zimbabwe  1990    male  25-34        150.0   193.31539   \n",
       "43772  Zimbabwe  1990    male  35-54        132.0   193.31539   \n",
       "43773  Zimbabwe  1990    male  05-14          6.0   193.31539   \n",
       "43774  Zimbabwe  1990    male  55-74         74.0   193.31539   \n",
       "43775  Zimbabwe  1990    male    75+         13.0   193.31539   \n",
       "\n",
       "       crude_rate_per_100k  \n",
       "43766            13.185094  \n",
       "43767            13.185094  \n",
       "43768            13.185094  \n",
       "43769            13.185094  \n",
       "43770            13.185094  \n",
       "43771            13.185094  \n",
       "43772            13.185094  \n",
       "43773            13.185094  \n",
       "43774            13.185094  \n",
       "43775            13.185094  "
      ]
     },
     "execution_count": 158,
     "metadata": {},
     "output_type": "execute_result"
    }
   ],
   "source": [
    "df.tail(10)"
   ]
  },
  {
   "cell_type": "markdown",
   "metadata": {},
   "source": [
    "#### Now, we obtain the dataset with no missing values."
   ]
  },
  {
   "cell_type": "markdown",
   "metadata": {},
   "source": [
    "# Correct data format\n",
    "We are almost there!\n",
    "\n",
    "The last step in data cleaning is checking and making sure that all data is in the correct format (int, float, text or other).\n",
    "In Pandas, we use\n",
    "\n",
    ".dtype() to check the data type\n",
    ".astype() to change the data type"
   ]
  },
  {
   "cell_type": "markdown",
   "metadata": {},
   "source": [
    "#### Let's list the data types for each column:"
   ]
  },
  {
   "cell_type": "code",
   "execution_count": 159,
   "metadata": {},
   "outputs": [
    {
     "data": {
      "text/plain": [
       "country                 object\n",
       "year                     int64\n",
       "sex                     object\n",
       "age                     object\n",
       "suicides_no            float64\n",
       "population             float64\n",
       "crude_rate_per_100k    float64\n",
       "dtype: object"
      ]
     },
     "execution_count": 159,
     "metadata": {},
     "output_type": "execute_result"
    }
   ],
   "source": [
    "df.dtypes"
   ]
  },
  {
   "cell_type": "markdown",
   "metadata": {},
   "source": [
    "As we can see above, all columns are of the correct data type except suicide_no. Numerical variables should have type \n",
    "'float' or 'int', and variables with strings such as categories should have type 'object'. \n",
    "suicide_no should be int type "
   ]
  },
  {
   "cell_type": "code",
   "execution_count": 160,
   "metadata": {},
   "outputs": [
    {
     "name": "stdout",
     "output_type": "stream",
     "text": [
      "Done\n"
     ]
    }
   ],
   "source": [
    "#convert suicides_no datatype into int rom object\n",
    "df[\"suicides_no\"] = df[\"suicides_no\"].astype(\"int\")\n",
    "print(\"Done\")"
   ]
  },
  {
   "cell_type": "code",
   "execution_count": 161,
   "metadata": {},
   "outputs": [
    {
     "data": {
      "text/plain": [
       "country                 object\n",
       "year                     int64\n",
       "sex                     object\n",
       "age                     object\n",
       "suicides_no              int32\n",
       "population             float64\n",
       "crude_rate_per_100k    float64\n",
       "dtype: object"
      ]
     },
     "execution_count": 161,
     "metadata": {},
     "output_type": "execute_result"
    }
   ],
   "source": [
    "df.dtypes"
   ]
  },
  {
   "cell_type": "markdown",
   "metadata": {},
   "source": [
    "##### Now, we finally obtain the cleaned dataset with no missing values and all data in its proper format."
   ]
  },
  {
   "cell_type": "markdown",
   "metadata": {},
   "source": [
    "# Binning "
   ]
  },
  {
   "cell_type": "code",
   "execution_count": 162,
   "metadata": {},
   "outputs": [],
   "source": [
    "#df[\"age\"]=df[\"age\"].astype(object, copy=True)"
   ]
  },
  {
   "cell_type": "code",
   "execution_count": 163,
   "metadata": {},
   "outputs": [],
   "source": [
    "#binwidth = (max(df[\"age\"])-min(df[\"age\"]))/4"
   ]
  },
  {
   "cell_type": "code",
   "execution_count": 164,
   "metadata": {},
   "outputs": [],
   "source": [
    "#bins_ranges=[5,15,25,65,75]\n",
    "#bins_ranges   "
   ]
  },
  {
   "cell_type": "code",
   "execution_count": 165,
   "metadata": {},
   "outputs": [],
   "source": [
    "#bin_names = ['children', 'Youth', 'Adults','Seniors']"
   ]
  },
  {
   "cell_type": "code",
   "execution_count": 166,
   "metadata": {},
   "outputs": [],
   "source": [
    "#df['Age_bin_custom_range'] = pd.cut(np.array(df['Age']), bins=bin_ranges)\n",
    "#df['Age_bin_custom_label'] = pd.cut(np.array(df['Age']),labels=bin_names)"
   ]
  },
  {
   "cell_type": "code",
   "execution_count": 167,
   "metadata": {},
   "outputs": [
    {
     "data": {
      "text/html": [
       "<div>\n",
       "<style scoped>\n",
       "    .dataframe tbody tr th:only-of-type {\n",
       "        vertical-align: middle;\n",
       "    }\n",
       "\n",
       "    .dataframe tbody tr th {\n",
       "        vertical-align: top;\n",
       "    }\n",
       "\n",
       "    .dataframe thead th {\n",
       "        text-align: right;\n",
       "    }\n",
       "</style>\n",
       "<table border=\"1\" class=\"dataframe\">\n",
       "  <thead>\n",
       "    <tr style=\"text-align: right;\">\n",
       "      <th></th>\n",
       "      <th>country</th>\n",
       "      <th>year</th>\n",
       "      <th>sex</th>\n",
       "      <th>age</th>\n",
       "      <th>suicides_no</th>\n",
       "      <th>population</th>\n",
       "      <th>crude_rate_per_100k</th>\n",
       "    </tr>\n",
       "  </thead>\n",
       "  <tbody>\n",
       "    <tr>\n",
       "      <th>0</th>\n",
       "      <td>Albania</td>\n",
       "      <td>1985</td>\n",
       "      <td>female</td>\n",
       "      <td>15-24</td>\n",
       "      <td>193</td>\n",
       "      <td>277900.0</td>\n",
       "      <td>13.185094</td>\n",
       "    </tr>\n",
       "    <tr>\n",
       "      <th>1</th>\n",
       "      <td>Albania</td>\n",
       "      <td>1985</td>\n",
       "      <td>female</td>\n",
       "      <td>25-34</td>\n",
       "      <td>193</td>\n",
       "      <td>246800.0</td>\n",
       "      <td>13.185094</td>\n",
       "    </tr>\n",
       "    <tr>\n",
       "      <th>2</th>\n",
       "      <td>Albania</td>\n",
       "      <td>1985</td>\n",
       "      <td>female</td>\n",
       "      <td>35-54</td>\n",
       "      <td>193</td>\n",
       "      <td>267500.0</td>\n",
       "      <td>13.185094</td>\n",
       "    </tr>\n",
       "    <tr>\n",
       "      <th>3</th>\n",
       "      <td>Albania</td>\n",
       "      <td>1985</td>\n",
       "      <td>female</td>\n",
       "      <td>05-14</td>\n",
       "      <td>193</td>\n",
       "      <td>298300.0</td>\n",
       "      <td>13.185094</td>\n",
       "    </tr>\n",
       "    <tr>\n",
       "      <th>4</th>\n",
       "      <td>Albania</td>\n",
       "      <td>1985</td>\n",
       "      <td>female</td>\n",
       "      <td>55-74</td>\n",
       "      <td>193</td>\n",
       "      <td>138700.0</td>\n",
       "      <td>13.185094</td>\n",
       "    </tr>\n",
       "  </tbody>\n",
       "</table>\n",
       "</div>"
      ],
      "text/plain": [
       "   country  year     sex    age  suicides_no  population  crude_rate_per_100k\n",
       "0  Albania  1985  female  15-24          193    277900.0            13.185094\n",
       "1  Albania  1985  female  25-34          193    246800.0            13.185094\n",
       "2  Albania  1985  female  35-54          193    267500.0            13.185094\n",
       "3  Albania  1985  female  05-14          193    298300.0            13.185094\n",
       "4  Albania  1985  female  55-74          193    138700.0            13.185094"
      ]
     },
     "execution_count": 167,
     "metadata": {},
     "output_type": "execute_result"
    }
   ],
   "source": [
    "df.head()"
   ]
  },
  {
   "cell_type": "markdown",
   "metadata": {},
   "source": [
    "## Indicator variable (or dummy variable)\n",
    "We will use the panda's method 'get_dummies' to assign numerical values to different categories of sex type."
   ]
  },
  {
   "cell_type": "code",
   "execution_count": 168,
   "metadata": {},
   "outputs": [
    {
     "data": {
      "text/plain": [
       "Index(['country', 'year', 'sex', 'age', 'suicides_no', 'population',\n",
       "       'crude_rate_per_100k'],\n",
       "      dtype='object')"
      ]
     },
     "execution_count": 168,
     "metadata": {},
     "output_type": "execute_result"
    }
   ],
   "source": [
    "df.columns"
   ]
  },
  {
   "cell_type": "code",
   "execution_count": 169,
   "metadata": {},
   "outputs": [
    {
     "data": {
      "text/html": [
       "<div>\n",
       "<style scoped>\n",
       "    .dataframe tbody tr th:only-of-type {\n",
       "        vertical-align: middle;\n",
       "    }\n",
       "\n",
       "    .dataframe tbody tr th {\n",
       "        vertical-align: top;\n",
       "    }\n",
       "\n",
       "    .dataframe thead th {\n",
       "        text-align: right;\n",
       "    }\n",
       "</style>\n",
       "<table border=\"1\" class=\"dataframe\">\n",
       "  <thead>\n",
       "    <tr style=\"text-align: right;\">\n",
       "      <th></th>\n",
       "      <th>female</th>\n",
       "      <th>male</th>\n",
       "    </tr>\n",
       "  </thead>\n",
       "  <tbody>\n",
       "    <tr>\n",
       "      <th>0</th>\n",
       "      <td>1</td>\n",
       "      <td>0</td>\n",
       "    </tr>\n",
       "    <tr>\n",
       "      <th>1</th>\n",
       "      <td>1</td>\n",
       "      <td>0</td>\n",
       "    </tr>\n",
       "    <tr>\n",
       "      <th>2</th>\n",
       "      <td>1</td>\n",
       "      <td>0</td>\n",
       "    </tr>\n",
       "    <tr>\n",
       "      <th>3</th>\n",
       "      <td>1</td>\n",
       "      <td>0</td>\n",
       "    </tr>\n",
       "    <tr>\n",
       "      <th>4</th>\n",
       "      <td>1</td>\n",
       "      <td>0</td>\n",
       "    </tr>\n",
       "  </tbody>\n",
       "</table>\n",
       "</div>"
      ],
      "text/plain": [
       "   female  male\n",
       "0       1     0\n",
       "1       1     0\n",
       "2       1     0\n",
       "3       1     0\n",
       "4       1     0"
      ]
     },
     "execution_count": 169,
     "metadata": {},
     "output_type": "execute_result"
    }
   ],
   "source": [
    "dummy_variable_1 = pd.get_dummies(df[\"sex\"])\n",
    "dummy_variable_1.head()"
   ]
  },
  {
   "cell_type": "code",
   "execution_count": 170,
   "metadata": {},
   "outputs": [
    {
     "data": {
      "text/html": [
       "<div>\n",
       "<style scoped>\n",
       "    .dataframe tbody tr th:only-of-type {\n",
       "        vertical-align: middle;\n",
       "    }\n",
       "\n",
       "    .dataframe tbody tr th {\n",
       "        vertical-align: top;\n",
       "    }\n",
       "\n",
       "    .dataframe thead th {\n",
       "        text-align: right;\n",
       "    }\n",
       "</style>\n",
       "<table border=\"1\" class=\"dataframe\">\n",
       "  <thead>\n",
       "    <tr style=\"text-align: right;\">\n",
       "      <th></th>\n",
       "      <th>female</th>\n",
       "      <th>male</th>\n",
       "    </tr>\n",
       "  </thead>\n",
       "  <tbody>\n",
       "    <tr>\n",
       "      <th>0</th>\n",
       "      <td>1</td>\n",
       "      <td>0</td>\n",
       "    </tr>\n",
       "    <tr>\n",
       "      <th>1</th>\n",
       "      <td>1</td>\n",
       "      <td>0</td>\n",
       "    </tr>\n",
       "    <tr>\n",
       "      <th>2</th>\n",
       "      <td>1</td>\n",
       "      <td>0</td>\n",
       "    </tr>\n",
       "    <tr>\n",
       "      <th>3</th>\n",
       "      <td>1</td>\n",
       "      <td>0</td>\n",
       "    </tr>\n",
       "    <tr>\n",
       "      <th>4</th>\n",
       "      <td>1</td>\n",
       "      <td>0</td>\n",
       "    </tr>\n",
       "  </tbody>\n",
       "</table>\n",
       "</div>"
      ],
      "text/plain": [
       "   female  male\n",
       "0       1     0\n",
       "1       1     0\n",
       "2       1     0\n",
       "3       1     0\n",
       "4       1     0"
      ]
     },
     "execution_count": 170,
     "metadata": {},
     "output_type": "execute_result"
    }
   ],
   "source": [
    "dummy_variable_1.rename(columns={'sex':'male', 'sex':'female'}, inplace=True)\n",
    "dummy_variable_1.head()"
   ]
  },
  {
   "cell_type": "markdown",
   "metadata": {},
   "source": [
    "#### save the new csv"
   ]
  },
  {
   "cell_type": "code",
   "execution_count": 171,
   "metadata": {},
   "outputs": [],
   "source": [
    "df.to_csv('who_suicudes_clean_df.csv')"
   ]
  },
  {
   "cell_type": "code",
   "execution_count": null,
   "metadata": {},
   "outputs": [],
   "source": []
  },
  {
   "cell_type": "markdown",
   "metadata": {},
   "source": [
    "### Basic facts about suicide\n",
    "Before looking at how things change over time, we shall observe a few basic facts about suicide:\n",
    "Men are far more prone to commiting suicide than women, or at least this is what the data shows.\n",
    "Young people, adolescents in particular, are NOT at the greatest risk. See the charts below. These are only examples, but this general pattern comes up time and again.\n",
    "There are considerable differences between countries even after age standardization. Recall the WHO map above.\n",
    "Some part of the observed differences between countries and demographic groups may be explained by underreporting, biases and other issues with acknowledgment and classification of suicides.\n",
    "\n",
    "The charts below show crude suicide rates per 100k population in 2015."
   ]
  },
  {
   "cell_type": "code",
   "execution_count": 172,
   "metadata": {},
   "outputs": [
    {
     "data": {
      "text/plain": [
       "<seaborn.axisgrid.FacetGrid at 0x25978737b38>"
      ]
     },
     "execution_count": 172,
     "metadata": {},
     "output_type": "execute_result"
    },
    {
     "data": {
      "image/png": "[encoded data removed]",
      "text/plain": [
       "<Figure size 1152.85x360 with 3 Axes>"
      ]
     },
     "metadata": {},
     "output_type": "display_data"
    }
   ],
   "source": [
    "# seaborn settings reset\n",
    "sns.set()\n",
    "\n",
    "# chart data\n",
    "cd = (df.loc[(df['country'].isin(['Poland','Thailand','United States of America'])) \n",
    "             &(df['year'] == 2015), ['country','sex','age','crude_rate_per_100k']]\n",
    "      .sort_values(['sex','age']))\n",
    "\n",
    "sns.catplot(x='age',hue='sex', col='country', y='crude_rate_per_100k'\n",
    "            , data=cd, kind='bar', col_wrap=3)"
   ]
  },
  {
   "cell_type": "code",
   "execution_count": 174,
   "metadata": {},
   "outputs": [
    {
     "data": {
      "text/html": [
       "<div>\n",
       "<style scoped>\n",
       "    .dataframe tbody tr th:only-of-type {\n",
       "        vertical-align: middle;\n",
       "    }\n",
       "\n",
       "    .dataframe tbody tr th {\n",
       "        vertical-align: top;\n",
       "    }\n",
       "\n",
       "    .dataframe thead th {\n",
       "        text-align: right;\n",
       "    }\n",
       "</style>\n",
       "<table border=\"1\" class=\"dataframe\">\n",
       "  <thead>\n",
       "    <tr style=\"text-align: right;\">\n",
       "      <th></th>\n",
       "      <th>country</th>\n",
       "      <th>decade</th>\n",
       "      <th>sex</th>\n",
       "      <th>age</th>\n",
       "      <th>median</th>\n",
       "      <th>count</th>\n",
       "    </tr>\n",
       "  </thead>\n",
       "  <tbody>\n",
       "    <tr>\n",
       "      <th>0</th>\n",
       "      <td>Albania</td>\n",
       "      <td>1996-2005</td>\n",
       "      <td>female</td>\n",
       "      <td>05-14</td>\n",
       "      <td>0.278641</td>\n",
       "      <td>10</td>\n",
       "    </tr>\n",
       "    <tr>\n",
       "      <th>1</th>\n",
       "      <td>Albania</td>\n",
       "      <td>1996-2005</td>\n",
       "      <td>female</td>\n",
       "      <td>15-24</td>\n",
       "      <td>5.317182</td>\n",
       "      <td>10</td>\n",
       "    </tr>\n",
       "    <tr>\n",
       "      <th>2</th>\n",
       "      <td>Albania</td>\n",
       "      <td>1996-2005</td>\n",
       "      <td>female</td>\n",
       "      <td>25-34</td>\n",
       "      <td>3.682569</td>\n",
       "      <td>10</td>\n",
       "    </tr>\n",
       "    <tr>\n",
       "      <th>3</th>\n",
       "      <td>Albania</td>\n",
       "      <td>1996-2005</td>\n",
       "      <td>female</td>\n",
       "      <td>35-54</td>\n",
       "      <td>2.452446</td>\n",
       "      <td>10</td>\n",
       "    </tr>\n",
       "    <tr>\n",
       "      <th>4</th>\n",
       "      <td>Albania</td>\n",
       "      <td>1996-2005</td>\n",
       "      <td>female</td>\n",
       "      <td>55-74</td>\n",
       "      <td>1.779099</td>\n",
       "      <td>10</td>\n",
       "    </tr>\n",
       "  </tbody>\n",
       "</table>\n",
       "</div>"
      ],
      "text/plain": [
       "   country     decade     sex    age    median  count\n",
       "0  Albania  1996-2005  female  05-14  0.278641     10\n",
       "1  Albania  1996-2005  female  15-24  5.317182     10\n",
       "2  Albania  1996-2005  female  25-34  3.682569     10\n",
       "3  Albania  1996-2005  female  35-54  2.452446     10\n",
       "4  Albania  1996-2005  female  55-74  1.779099     10"
      ]
     },
     "execution_count": 174,
     "metadata": {},
     "output_type": "execute_result"
    }
   ],
   "source": [
    "# grouping into two decades of interest\n",
    "df.loc[(df['year'] >= 1996) & (df['year'] <= 2005), 'decade'] = '1996-2005'\n",
    "df.loc[(df['year'] >= 2006) & (df['year'] <= 2015), 'decade'] = '2006-2015'\n",
    "\n",
    "# median of the crude rate in a decade, along with information about how many years of data are available\n",
    "decade_df = (df.groupby(['country','decade','sex','age'])['crude_rate_per_100k'].agg(['median','count']).reset_index())\n",
    "decade_df.head()"
   ]
  },
  {
   "cell_type": "code",
   "execution_count": 194,
   "metadata": {},
   "outputs": [
    {
     "data": {
      "text/plain": [
       "<matplotlib.axes._subplots.AxesSubplot at 0x2597afe5438>"
      ]
     },
     "execution_count": 194,
     "metadata": {},
     "output_type": "execute_result"
    },
    {
     "data": {
      "image/png": "[encoded data removed]",
      "text/plain": [
       "<Figure size 432x288 with 1 Axes>"
      ]
     },
     "metadata": {},
     "output_type": "display_data"
    }
   ],
   "source": [
    "sns.boxplot(x='decade',y='median',data=decade_df)"
   ]
  },
  {
   "cell_type": "markdown",
   "metadata": {},
   "source": [
    " ##### we can calculate the correlation between variables of type \"int64\" or \"float64\" using the method \"corr\":"
   ]
  },
  {
   "cell_type": "code",
   "execution_count": 175,
   "metadata": {},
   "outputs": [
    {
     "data": {
      "text/html": [
       "<div>\n",
       "<style scoped>\n",
       "    .dataframe tbody tr th:only-of-type {\n",
       "        vertical-align: middle;\n",
       "    }\n",
       "\n",
       "    .dataframe tbody tr th {\n",
       "        vertical-align: top;\n",
       "    }\n",
       "\n",
       "    .dataframe thead th {\n",
       "        text-align: right;\n",
       "    }\n",
       "</style>\n",
       "<table border=\"1\" class=\"dataframe\">\n",
       "  <thead>\n",
       "    <tr style=\"text-align: right;\">\n",
       "      <th></th>\n",
       "      <th>year</th>\n",
       "      <th>suicides_no</th>\n",
       "      <th>population</th>\n",
       "      <th>crude_rate_per_100k</th>\n",
       "    </tr>\n",
       "  </thead>\n",
       "  <tbody>\n",
       "    <tr>\n",
       "      <th>year</th>\n",
       "      <td>1.000000</td>\n",
       "      <td>-0.011351</td>\n",
       "      <td>0.020064</td>\n",
       "      <td>-0.062281</td>\n",
       "    </tr>\n",
       "    <tr>\n",
       "      <th>suicides_no</th>\n",
       "      <td>-0.011351</td>\n",
       "      <td>1.000000</td>\n",
       "      <td>0.606011</td>\n",
       "      <td>0.284933</td>\n",
       "    </tr>\n",
       "    <tr>\n",
       "      <th>population</th>\n",
       "      <td>0.020064</td>\n",
       "      <td>0.606011</td>\n",
       "      <td>1.000000</td>\n",
       "      <td>-0.003082</td>\n",
       "    </tr>\n",
       "    <tr>\n",
       "      <th>crude_rate_per_100k</th>\n",
       "      <td>-0.062281</td>\n",
       "      <td>0.284933</td>\n",
       "      <td>-0.003082</td>\n",
       "      <td>1.000000</td>\n",
       "    </tr>\n",
       "  </tbody>\n",
       "</table>\n",
       "</div>"
      ],
      "text/plain": [
       "                         year  suicides_no  population  crude_rate_per_100k\n",
       "year                 1.000000    -0.011351    0.020064            -0.062281\n",
       "suicides_no         -0.011351     1.000000    0.606011             0.284933\n",
       "population           0.020064     0.606011    1.000000            -0.003082\n",
       "crude_rate_per_100k -0.062281     0.284933   -0.003082             1.000000"
      ]
     },
     "execution_count": 175,
     "metadata": {},
     "output_type": "execute_result"
    }
   ],
   "source": [
    "df.corr()"
   ]
  },
  {
   "cell_type": "code",
   "execution_count": 176,
   "metadata": {},
   "outputs": [],
   "source": [
    "# select only these cases where we have at least X years of data\n",
    "valid_threshold = 5"
   ]
  },
  {
   "cell_type": "code",
   "execution_count": 177,
   "metadata": {},
   "outputs": [
    {
     "name": "stdout",
     "output_type": "stream",
     "text": [
      "There are 108 countries with at least 5 years of data.\n"
     ]
    },
    {
     "data": {
      "text/html": [
       "<div>\n",
       "<style scoped>\n",
       "    .dataframe tbody tr th:only-of-type {\n",
       "        vertical-align: middle;\n",
       "    }\n",
       "\n",
       "    .dataframe tbody tr th {\n",
       "        vertical-align: top;\n",
       "    }\n",
       "\n",
       "    .dataframe thead th {\n",
       "        text-align: right;\n",
       "    }\n",
       "</style>\n",
       "<table border=\"1\" class=\"dataframe\">\n",
       "  <thead>\n",
       "    <tr style=\"text-align: right;\">\n",
       "      <th></th>\n",
       "      <th>country</th>\n",
       "      <th>decade_d1</th>\n",
       "      <th>sex</th>\n",
       "      <th>age</th>\n",
       "      <th>median_d1</th>\n",
       "      <th>count_d1</th>\n",
       "      <th>decade_d2</th>\n",
       "      <th>median_d2</th>\n",
       "      <th>count_d2</th>\n",
       "      <th>crude_rate_diff</th>\n",
       "    </tr>\n",
       "  </thead>\n",
       "  <tbody>\n",
       "    <tr>\n",
       "      <th>0</th>\n",
       "      <td>Albania</td>\n",
       "      <td>1996-2005</td>\n",
       "      <td>female</td>\n",
       "      <td>05-14</td>\n",
       "      <td>0.278641</td>\n",
       "      <td>10</td>\n",
       "      <td>2006-2015</td>\n",
       "      <td>7.039037</td>\n",
       "      <td>10</td>\n",
       "      <td>6.760396</td>\n",
       "    </tr>\n",
       "    <tr>\n",
       "      <th>1</th>\n",
       "      <td>Albania</td>\n",
       "      <td>1996-2005</td>\n",
       "      <td>female</td>\n",
       "      <td>15-24</td>\n",
       "      <td>5.317182</td>\n",
       "      <td>10</td>\n",
       "      <td>2006-2015</td>\n",
       "      <td>10.214777</td>\n",
       "      <td>10</td>\n",
       "      <td>4.897595</td>\n",
       "    </tr>\n",
       "    <tr>\n",
       "      <th>2</th>\n",
       "      <td>Albania</td>\n",
       "      <td>1996-2005</td>\n",
       "      <td>female</td>\n",
       "      <td>25-34</td>\n",
       "      <td>3.682569</td>\n",
       "      <td>10</td>\n",
       "      <td>2006-2015</td>\n",
       "      <td>9.056100</td>\n",
       "      <td>10</td>\n",
       "      <td>5.373531</td>\n",
       "    </tr>\n",
       "    <tr>\n",
       "      <th>3</th>\n",
       "      <td>Albania</td>\n",
       "      <td>1996-2005</td>\n",
       "      <td>female</td>\n",
       "      <td>35-54</td>\n",
       "      <td>2.452446</td>\n",
       "      <td>10</td>\n",
       "      <td>2006-2015</td>\n",
       "      <td>9.004743</td>\n",
       "      <td>10</td>\n",
       "      <td>6.552297</td>\n",
       "    </tr>\n",
       "    <tr>\n",
       "      <th>4</th>\n",
       "      <td>Albania</td>\n",
       "      <td>1996-2005</td>\n",
       "      <td>female</td>\n",
       "      <td>55-74</td>\n",
       "      <td>1.779099</td>\n",
       "      <td>10</td>\n",
       "      <td>2006-2015</td>\n",
       "      <td>8.627641</td>\n",
       "      <td>10</td>\n",
       "      <td>6.848542</td>\n",
       "    </tr>\n",
       "  </tbody>\n",
       "</table>\n",
       "</div>"
      ],
      "text/plain": [
       "   country  decade_d1     sex    age  median_d1  count_d1  decade_d2  \\\n",
       "0  Albania  1996-2005  female  05-14   0.278641        10  2006-2015   \n",
       "1  Albania  1996-2005  female  15-24   5.317182        10  2006-2015   \n",
       "2  Albania  1996-2005  female  25-34   3.682569        10  2006-2015   \n",
       "3  Albania  1996-2005  female  35-54   2.452446        10  2006-2015   \n",
       "4  Albania  1996-2005  female  55-74   1.779099        10  2006-2015   \n",
       "\n",
       "   median_d2  count_d2  crude_rate_diff  \n",
       "0   7.039037        10         6.760396  \n",
       "1  10.214777        10         4.897595  \n",
       "2   9.056100        10         5.373531  \n",
       "3   9.004743        10         6.552297  \n",
       "4   8.627641        10         6.848542  "
      ]
     },
     "execution_count": 177,
     "metadata": {},
     "output_type": "execute_result"
    }
   ],
   "source": [
    "# difference in median of crude rates between two decades\n",
    "# perhaps there is a better way to calculate this, instead of doing two calculations and joining them into one table\n",
    "d1_df = decade_df[(decade_df['decade'] == '1996-2005') & (decade_df['count'] >= valid_threshold)]\n",
    "d2_df = decade_df[(decade_df['decade'] == '2006-2015') & (decade_df['count'] >= valid_threshold)]\n",
    "\n",
    "final_df = d1_df.merge(d2_df, left_on=['country','sex','age'], right_on=['country','sex','age'], how='inner',suffixes=['_d1','_d2'])\n",
    "           \n",
    "final_df['crude_rate_diff'] = final_df['median_d2'] - final_df['median_d1']\n",
    "\n",
    "# capping on crude rates difference\n",
    "final_df.loc[final_df['crude_rate_diff'] > 20, 'crude_rate_diff'] = 20\n",
    "final_df.loc[final_df['crude_rate_diff'] < -20, 'crude_rate_diff'] = -20\n",
    "\n",
    "print('There are', final_df['country'].nunique(), 'countries with at least', valid_threshold, 'years of data.')\n",
    "final_df.head()"
   ]
  },
  {
   "cell_type": "code",
   "execution_count": 178,
   "metadata": {},
   "outputs": [
    {
     "data": {
      "text/plain": [
       "<seaborn.axisgrid.FacetGrid at 0x259787962b0>"
      ]
     },
     "execution_count": 178,
     "metadata": {},
     "output_type": "execute_result"
    },
    {
     "data": {
      "image/png": "[encoded data removed]",
      "text/plain": [
       "<Figure size 1080x720 with 6 Axes>"
      ]
     },
     "metadata": {},
     "output_type": "display_data"
    }
   ],
   "source": [
    "sns.catplot(x='sex', y=\"crude_rate_diff\", col=\"age\", col_wrap=3, sharey=True, data=final_df, alpha=0.5)"
   ]
  },
  {
   "cell_type": "code",
   "execution_count": 179,
   "metadata": {},
   "outputs": [
    {
     "data": {
      "text/plain": [
       "<seaborn.axisgrid.FacetGrid at 0x25979bef390>"
      ]
     },
     "execution_count": 179,
     "metadata": {},
     "output_type": "execute_result"
    },
    {
     "data": {
      "image/png": "[encoded data removed]",
      "text/plain": [
       "<Figure size 1176.3x720 with 6 Axes>"
      ]
     },
     "metadata": {},
     "output_type": "display_data"
    }
   ],
   "source": [
    "# decide what qualifies as change (increase or decrease)\n",
    "def categorize_differences(x, threshold):\n",
    "    if (x <= -threshold):\n",
    "        diff_category = 'Decrease'\n",
    "    elif (x >= threshold):\n",
    "        diff_category = 'Increase'\n",
    "    else:\n",
    "        diff_category = 'No change'\n",
    "    \n",
    "    return diff_category\n",
    "        \n",
    "final_df['crude_rate_diff_cat'] = final_df['crude_rate_diff'].map(lambda x: categorize_differences(x, 2))\n",
    "\n",
    "# results\n",
    "sns.catplot(x='sex', hue='crude_rate_diff_cat', col='age', col_wrap=3, \n",
    "            data=final_df.sort_values(['age','crude_rate_diff_cat','sex'], ascending=[True,False,True]), \n",
    "            kind='count')"
   ]
  },
  {
   "cell_type": "markdown",
   "metadata": {},
   "source": [
    "To quantify that notion, I put these results into three broad categories:\n",
    "\n",
    "- Increase in suicide rates. The difference between the median suicide rates in 2006-2015 versus 1996-2005 is positive and    greater than (or equal to) a given threshold, which I set at 2 per 100k population.\n",
    "- No change. The difference is smaller than the threshold, either way (negative or positive).\n",
    "- Decrease in suicide rates."
   ]
  },
  {
   "cell_type": "markdown",
   "metadata": {},
   "source": [
    "# Pearson Correlation\n",
    "The Pearson Correlation measures the linear dependence between two variables, X and Y. The resulting coefficient is a value between -1 and 1 inclusive, where:\n",
    "\n",
    "- 1: total positive linear correlation,\n",
    "- 0: no linear correlation, the two variables most likely do not affect each other\n",
    "- -1: total negative linear correlation.\n",
    "Pearson Correlation is the default method of the function \"corr\". As before, we can calculate the Pearson correlation of the of the 'int64' or 'float64' variables:"
   ]
  },
  {
   "cell_type": "code",
   "execution_count": 180,
   "metadata": {},
   "outputs": [
    {
     "data": {
      "text/html": [
       "<div>\n",
       "<style scoped>\n",
       "    .dataframe tbody tr th:only-of-type {\n",
       "        vertical-align: middle;\n",
       "    }\n",
       "\n",
       "    .dataframe tbody tr th {\n",
       "        vertical-align: top;\n",
       "    }\n",
       "\n",
       "    .dataframe thead th {\n",
       "        text-align: right;\n",
       "    }\n",
       "</style>\n",
       "<table border=\"1\" class=\"dataframe\">\n",
       "  <thead>\n",
       "    <tr style=\"text-align: right;\">\n",
       "      <th></th>\n",
       "      <th>year</th>\n",
       "      <th>suicides_no</th>\n",
       "      <th>population</th>\n",
       "      <th>crude_rate_per_100k</th>\n",
       "    </tr>\n",
       "  </thead>\n",
       "  <tbody>\n",
       "    <tr>\n",
       "      <th>year</th>\n",
       "      <td>1.000000</td>\n",
       "      <td>-0.011351</td>\n",
       "      <td>0.020064</td>\n",
       "      <td>-0.062281</td>\n",
       "    </tr>\n",
       "    <tr>\n",
       "      <th>suicides_no</th>\n",
       "      <td>-0.011351</td>\n",
       "      <td>1.000000</td>\n",
       "      <td>0.606011</td>\n",
       "      <td>0.284933</td>\n",
       "    </tr>\n",
       "    <tr>\n",
       "      <th>population</th>\n",
       "      <td>0.020064</td>\n",
       "      <td>0.606011</td>\n",
       "      <td>1.000000</td>\n",
       "      <td>-0.003082</td>\n",
       "    </tr>\n",
       "    <tr>\n",
       "      <th>crude_rate_per_100k</th>\n",
       "      <td>-0.062281</td>\n",
       "      <td>0.284933</td>\n",
       "      <td>-0.003082</td>\n",
       "      <td>1.000000</td>\n",
       "    </tr>\n",
       "  </tbody>\n",
       "</table>\n",
       "</div>"
      ],
      "text/plain": [
       "                         year  suicides_no  population  crude_rate_per_100k\n",
       "year                 1.000000    -0.011351    0.020064            -0.062281\n",
       "suicides_no         -0.011351     1.000000    0.606011             0.284933\n",
       "population           0.020064     0.606011    1.000000            -0.003082\n",
       "crude_rate_per_100k -0.062281     0.284933   -0.003082             1.000000"
      ]
     },
     "execution_count": 180,
     "metadata": {},
     "output_type": "execute_result"
    }
   ],
   "source": [
    "df.corr()"
   ]
  },
  {
   "cell_type": "markdown",
   "metadata": {},
   "source": [
    "###### P-value\n",
    "What is this P-value? The P-value is the probability value that the correlation between these two variables is statistically significant. Normally, we choose a significance level of 0.05, which means that we are 95% confident that the correlation between the variables is significant.\n",
    "\n",
    "By convention, when the p-value is:\n",
    "\n",
    "- < 0.001 we say there is strong evidence that the correlation is significant,\n",
    "- < 0.05; there is moderate evidence that the correlation is significant,\n",
    "- < 0.1; there is weak evidence that the correlation is significant, \n",
    "- and is > 0.1; there is no evidence that the correlation is significant.\n",
    "\n",
    "\n",
    "We can obtain this information using \"stats\" module in the \"scipy\" library:"
   ]
  },
  {
   "cell_type": "code",
   "execution_count": 181,
   "metadata": {},
   "outputs": [],
   "source": [
    "from scipy import stats"
   ]
  },
  {
   "cell_type": "code",
   "execution_count": 188,
   "metadata": {},
   "outputs": [
    {
     "name": "stdout",
     "output_type": "stream",
     "text": [
      "The Pearson Correlation Coefficient is 0.9229281144251927  with a P-value of P = 0.0\n"
     ]
    }
   ],
   "source": [
    "pearson_coef, p_value = stats.pearsonr(final_df['median_d1'], final_df['median_d2'])\n",
    "print(\"The Pearson Correlation Coefficient is\", pearson_coef, \" with a P-value of P =\", p_value)"
   ]
  },
  {
   "cell_type": "markdown",
   "metadata": {},
   "source": [
    "#### Conclusion:\n",
    "Since the p-value is < 0.001,  we say there is strong evidence that the correlation is significant,\n",
    "although pearson correlation cofficient is 0.9~ 1 therefore total positive linear correlation"
   ]
  },
  {
   "cell_type": "code",
   "execution_count": null,
   "metadata": {},
   "outputs": [],
   "source": []
  }
 ],
 "metadata": {
  "kernelspec": {
   "display_name": "Python 3",
   "language": "python",
   "name": "python3"
  },
  "language_info": {
   "codemirror_mode": {
    "name": "ipython",
    "version": 3
   },
   "file_extension": ".py",
   "mimetype": "text/x-python",
   "name": "python",
   "nbconvert_exporter": "python",
   "pygments_lexer": "ipython3",
   "version": "3.7.1"
  }
 },
 "nbformat": 4,
 "nbformat_minor": 2
}
